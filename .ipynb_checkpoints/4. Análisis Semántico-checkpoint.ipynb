{
 "cells": [
  {
   "cell_type": "markdown",
   "metadata": {},
   "source": [
    "\n",
    "# Proyecto\n",
    "### Erick Fernando López Fimbres.  \n",
    "#### erick.lopez.fimbres@gmail.com"
   ]
  },
  {
   "cell_type": "markdown",
   "metadata": {},
   "source": [
    "## Definición\n",
    "\n",
    "Para definir que es el analisis semántico, primero debemos saber que es la semánt recurriremos a la [RAE]() que lo define como: *\n",
    "Disciplina que estudia el significado de las unidades lingüísticas y de sus combinaciones.\n",
    "*\n"
   ]
  },
  {
   "cell_type": "code",
   "execution_count": 23,
   "metadata": {
    "collapsed": false
   },
   "outputs": [
    {
     "name": "stdout",
     "output_type": "stream",
     "text": [
      "Primeros 10 artículos: \n",
      "\n",
      "Infantilismo\n",
      "\n",
      "Pectus_excavatum\n",
      "\n",
      "Pectus_carinatum\n",
      "\n",
      "Onfalocele\n",
      "\n",
      "Período_prepatogénico\n",
      "\n",
      "Enfermedad_gastrointestinal\n",
      "\n",
      "Mal_de_montaña_crónico\n",
      "\n",
      "Fibrosis\n",
      "\n",
      "Meteoropatía\n",
      "\n",
      "Linfangitis\n",
      "\n",
      "Número de artículos en total:  1658\n"
     ]
    }
   ],
   "source": [
    "#filtrar los datos repetidos\n",
    "archivo=open('datos/archivo_categorias.txt')\n",
    "linea=archivo.readline()\n",
    "datos_limpios=list()\n",
    "while linea != \"\":\n",
    "    if linea not in datos_limpios:\n",
    "        datos_limpios.append(linea)    \n",
    "    linea=archivo.readline()\n",
    "archivo.close()\n",
    "\n",
    "print(\"Primeros 10 artículos: \\n\")\n",
    "for x in range(10):\n",
    "    print(datos_limpios[x])\n",
    "print(\"Número de artículos en total: \",len(datos_limpios))"
   ]
  },
  {
   "cell_type": "markdown",
   "metadata": {},
   "source": [
    "Listo, ahora tenemos nuestros datos mucho mas limpios (sin articulos repetidos) y en un menor tiempo que si lo hubieramos hecho a mano, ahora procederemos a trabajar con los datos en la siguiente libreta."
   ]
  }
 ],
 "metadata": {
  "celltoolbar": "Raw Cell Format",
  "kernelspec": {
   "display_name": "Python [default]",
   "language": "python",
   "name": "python3"
  },
  "language_info": {
   "codemirror_mode": {
    "name": "ipython",
    "version": 3
   },
   "file_extension": ".py",
   "mimetype": "text/x-python",
   "name": "python",
   "nbconvert_exporter": "python",
   "pygments_lexer": "ipython3",
   "version": "3.5.4"
  }
 },
 "nbformat": 4,
 "nbformat_minor": 2
}
