{
 "cells": [
  {
   "cell_type": "markdown",
   "metadata": {},
   "source": [
    "\n",
    "# Proyecto\n",
    "### Erick Fernando López Fimbres.  \n",
    "#### erick.lopez.fimbres@gmail.com"
   ]
  },
  {
   "cell_type": "markdown",
   "metadata": {},
   "source": [
    "## Limpieza\n",
    "\n",
    "Para poder utilizar las tecnicas apropiadas de procesamiento del lenguaje natural, primero debemos de limpiar los datos que estan en el archivo bajado de wikipedia, en nuestro caso se llama **\"todas_las_enfermedades.xml\"**, el cual esta situado en la carpeta **datos** de este proyecto.\n",
    "\n",
    "Está es una de las etapas más importantes, puesto que para poder obtener resultados debemos darle un tratamiento a los datos, al rededor del 80% del tiempo es invertido en esta etapa.\n",
    "\n",
    "Nuestro primer paso será la elaboración de un **lexicón** el cual se define como **conjunto de lexemas en un contexto determinado** en nuestro caso será construir un lexicon específico para el contexto de enfermedades. \n",
    "\n",
    "\n"
   ]
  },
  {
   "cell_type": "markdown",
   "metadata": {},
   "source": [
    "## Lexicón\n",
    "\n",
    "La idea básica en la construcción de un lexicón es optimizar la cantidad de términos en nuestro diccionario: muchas palabras permiten reconocer muchas características en un texto, pero representan un alto costo computacional; pocos términos en el lexicón es computacionalmente manejable, pero carece de capacidad para reconocer las características de un texto. Entonces el lexicón ideal es una combinación entre ambas el cual nos permite obtener características con un número de palabras no muy elevado pero tampoco demaciado reducido.\n",
    "\n",
    "A continuación procederemos a crear nuestro lexicón con el archivo **\"todas_las_enfermedades.xml\"** bajado de wikipedia."
   ]
  },
  {
   "cell_type": "markdown",
   "metadata": {},
   "source": [
    "### Estructura de los datos\n",
    "\n",
    "Primero procederemos a analizar la estructura de los datos del archivo que nos genera wikipedia, para así poder procesar los datos y limpiarlos."
   ]
  },
  {
   "cell_type": "code",
   "execution_count": 8,
   "metadata": {
    "collapsed": false
   },
   "outputs": [
    {
     "name": "stdout",
     "output_type": "stream",
     "text": [
      "{http://www.mediawiki.org/xml/export-0.10/}mediawiki \n",
      "  \n",
      "1  {http://www.mediawiki.org/xml/export-0.10/}siteinfo {}\n",
      "2    {http://www.mediawiki.org/xml/export-0.10/}sitename {}\n",
      "2    {http://www.mediawiki.org/xml/export-0.10/}dbname {}\n",
      "2    {http://www.mediawiki.org/xml/export-0.10/}base {}\n",
      "2    {http://www.mediawiki.org/xml/export-0.10/}generator {}\n",
      "2    {http://www.mediawiki.org/xml/export-0.10/}case {}\n",
      "2    {http://www.mediawiki.org/xml/export-0.10/}namespaces {}\n",
      "3      {http://www.mediawiki.org/xml/export-0.10/}namespace {'key': '-2', 'case': 'first-letter'}\n",
      "3      {http://www.mediawiki.org/xml/export-0.10/}namespace {'key': '-1', 'case': 'first-letter'}\n",
      "3      {http://www.mediawiki.org/xml/export-0.10/}namespace {'key': '0', 'case': 'first-letter'}\n",
      "3      {http://www.mediawiki.org/xml/export-0.10/}namespace {'key': '1', 'case': 'first-letter'}\n",
      "3      {http://www.mediawiki.org/xml/export-0.10/}namespace {'key': '2', 'case': 'first-letter'}\n",
      "3      {http://www.mediawiki.org/xml/export-0.10/}namespace {'key': '3', 'case': 'first-letter'}\n",
      "3      {http://www.mediawiki.org/xml/export-0.10/}namespace {'key': '4', 'case': 'first-letter'}\n",
      "3      {http://www.mediawiki.org/xml/export-0.10/}namespace {'key': '5', 'case': 'first-letter'}\n",
      "3      {http://www.mediawiki.org/xml/export-0.10/}namespace {'key': '6', 'case': 'first-letter'}\n",
      "3      {http://www.mediawiki.org/xml/export-0.10/}namespace {'key': '7', 'case': 'first-letter'}\n",
      "3      {http://www.mediawiki.org/xml/export-0.10/}namespace {'key': '8', 'case': 'first-letter'}\n",
      "3      {http://www.mediawiki.org/xml/export-0.10/}namespace {'key': '9', 'case': 'first-letter'}\n",
      "3      {http://www.mediawiki.org/xml/export-0.10/}namespace {'key': '10', 'case': 'first-letter'}\n",
      "3      {http://www.mediawiki.org/xml/export-0.10/}namespace {'key': '11', 'case': 'first-letter'}\n",
      "3      {http://www.mediawiki.org/xml/export-0.10/}namespace {'key': '12', 'case': 'first-letter'}\n",
      "3      {http://www.mediawiki.org/xml/export-0.10/}namespace {'key': '13', 'case': 'first-letter'}\n",
      "3      {http://www.mediawiki.org/xml/export-0.10/}namespace {'key': '14', 'case': 'first-letter'}\n",
      "3      {http://www.mediawiki.org/xml/export-0.10/}namespace {'key': '15', 'case': 'first-letter'}\n",
      "3      {http://www.mediawiki.org/xml/export-0.10/}namespace {'key': '100', 'case': 'first-letter'}\n",
      "3      {http://www.mediawiki.org/xml/export-0.10/}namespace {'key': '101', 'case': 'first-letter'}\n",
      "3      {http://www.mediawiki.org/xml/export-0.10/}namespace {'key': '102', 'case': 'first-letter'}\n",
      "3      {http://www.mediawiki.org/xml/export-0.10/}namespace {'key': '103', 'case': 'first-letter'}\n",
      "3      {http://www.mediawiki.org/xml/export-0.10/}namespace {'key': '104', 'case': 'first-letter'}\n",
      "3      {http://www.mediawiki.org/xml/export-0.10/}namespace {'key': '105', 'case': 'first-letter'}\n",
      "3      {http://www.mediawiki.org/xml/export-0.10/}namespace {'key': '446', 'case': 'first-letter'}\n",
      "3      {http://www.mediawiki.org/xml/export-0.10/}namespace {'key': '447', 'case': 'first-letter'}\n",
      "3      {http://www.mediawiki.org/xml/export-0.10/}namespace {'key': '828', 'case': 'first-letter'}\n",
      "3      {http://www.mediawiki.org/xml/export-0.10/}namespace {'key': '829', 'case': 'first-letter'}\n",
      "3      {http://www.mediawiki.org/xml/export-0.10/}namespace {'key': '2300', 'case': 'first-letter'}\n",
      "3      {http://www.mediawiki.org/xml/export-0.10/}namespace {'key': '2301', 'case': 'first-letter'}\n",
      "3      {http://www.mediawiki.org/xml/export-0.10/}namespace {'key': '2302', 'case': 'case-sensitive'}\n",
      "3      {http://www.mediawiki.org/xml/export-0.10/}namespace {'key': '2303', 'case': 'case-sensitive'}\n",
      "3      {http://www.mediawiki.org/xml/export-0.10/}namespace {'key': '2600', 'case': 'first-letter'}\n",
      "\n",
      "1  {http://www.mediawiki.org/xml/export-0.10/}page {}\n",
      "2    {http://www.mediawiki.org/xml/export-0.10/}title {}\n",
      "2    {http://www.mediawiki.org/xml/export-0.10/}ns {}\n",
      "2    {http://www.mediawiki.org/xml/export-0.10/}id {}\n",
      "2    {http://www.mediawiki.org/xml/export-0.10/}revision {}\n",
      "3      {http://www.mediawiki.org/xml/export-0.10/}id {}\n",
      "3      {http://www.mediawiki.org/xml/export-0.10/}parentid {}\n",
      "3      {http://www.mediawiki.org/xml/export-0.10/}timestamp {}\n",
      "3      {http://www.mediawiki.org/xml/export-0.10/}contributor {}\n",
      "3      {http://www.mediawiki.org/xml/export-0.10/}model {}\n",
      "3      {http://www.mediawiki.org/xml/export-0.10/}format {}\n",
      "3      {http://www.mediawiki.org/xml/export-0.10/}text {'{http://www.w3.org/XML/1998/namespace}space': 'preserve', 'bytes': '13118'}\n",
      "3      {http://www.mediawiki.org/xml/export-0.10/}sha1 {}\n",
      "\n",
      "1  {http://www.mediawiki.org/xml/export-0.10/}page {}\n",
      "2    {http://www.mediawiki.org/xml/export-0.10/}title {}\n",
      "2    {http://www.mediawiki.org/xml/export-0.10/}ns {}\n",
      "2    {http://www.mediawiki.org/xml/export-0.10/}id {}\n",
      "2    {http://www.mediawiki.org/xml/export-0.10/}revision {}\n",
      "3      {http://www.mediawiki.org/xml/export-0.10/}id {}\n",
      "3      {http://www.mediawiki.org/xml/export-0.10/}parentid {}\n",
      "3      {http://www.mediawiki.org/xml/export-0.10/}timestamp {}\n",
      "3      {http://www.mediawiki.org/xml/export-0.10/}contributor {}\n",
      "3      {http://www.mediawiki.org/xml/export-0.10/}minor {}\n",
      "3      {http://www.mediawiki.org/xml/export-0.10/}comment {}\n",
      "3      {http://www.mediawiki.org/xml/export-0.10/}model {}\n",
      "3      {http://www.mediawiki.org/xml/export-0.10/}format {}\n",
      "3      {http://www.mediawiki.org/xml/export-0.10/}text {'{http://www.w3.org/XML/1998/namespace}space': 'preserve', 'bytes': '5090'}\n",
      "3      {http://www.mediawiki.org/xml/export-0.10/}sha1 {}\n",
      "\n"
     ]
    }
   ],
   "source": [
    "import xml.etree.ElementTree as ET\n",
    "tree = ET.parse(\"datos/Enfermedades_geneticas.xml\")\n",
    "#tree = ET.parse(\"datos/todas_las_enfermedades.xml\")\n",
    "root = tree.getroot()\n",
    "\n",
    "print(root.tag, root.text)\n",
    "for row, child in zip(range(3), root):\n",
    "    print(\"1 \", child.tag, child.attrib)\n",
    "    for grandchild in child:\n",
    "        print(\"2   \", grandchild.tag, grandchild.attrib)\n",
    "        for grand2child in grandchild:\n",
    "            print(\"3     \", grand2child.tag, grand2child.attrib)\n",
    "    print()"
   ]
  },
  {
   "cell_type": "markdown",
   "metadata": {},
   "source": [
    "Marcamos como 1, 2 y 3 los niveles descendientes del nodo raíz y posteriores. Una exploración detallada muestra que los nodos que nos interesan son los que marcamos a continuación:\n",
    "\n",
    "![](imagenes/interes_export.png)\n",
    "\n"
   ]
  },
  {
   "cell_type": "markdown",
   "metadata": {},
   "source": [
    "Analizando a detalle los elementos del nivel 1"
   ]
  },
  {
   "cell_type": "code",
   "execution_count": 9,
   "metadata": {
    "collapsed": false
   },
   "outputs": [
    {
     "name": "stdout",
     "output_type": "stream",
     "text": [
      "0 {http://www.mediawiki.org/xml/export-0.10/}siteinfo\n"
     ]
    }
   ],
   "source": [
    "for index, child in zip(range(len(root)), root):\n",
    "    if(child.tag.find(\"page\") < 0):\n",
    "        print(index, child.tag)"
   ]
  },
  {
   "cell_type": "markdown",
   "metadata": {},
   "source": [
    "El unico nodo que no nos interesa a este nivel es root[0]"
   ]
  },
  {
   "cell_type": "code",
   "execution_count": 10,
   "metadata": {
    "collapsed": false
   },
   "outputs": [
    {
     "name": "stdout",
     "output_type": "stream",
     "text": [
      "Neurofibromatosis\n",
      "{{Ficha de enfermedad\n",
      "| nombre         = Neurofibromatosis\n",
      "| imagen         = Early neurofibromatosis.jpg\n",
      "| pie            = Paciente con neurofibromatosis temprana y [[Manchas café con leche|manchas color café con leche]].\n",
      "| DiseasesDB     = \n",
      "| CIE-10         = {{CIE-10|Q|85|0}}\n",
      "| CIE-9          = {{CIE-9|237.7}}\n",
      "| CIE-O          = {{CIE-0|9540|0}}\n",
      "| CIAP-2         = A90\n",
      "| OMIM           = 162200\n",
      "| MedlinePlus    =\n",
      "| eMedicineSubj  = derm\n",
      "| eMedicineTopic = 287\n",
      "| MeshID         = D017253 \n",
      "}}\n",
      "\n",
      "Las '''neurofibromatosis''' son trastornos [[Genética|genéticos]] del [[sistema nervioso]] que afectan principalmente al desarrollo y crecimiento de los tejidos de las [[célula]]s [[nervio|neurales]] (nerviosas). \n",
      "\n",
      "Estos trastornos ocasionan [[tumor]]es que crecen en los [[nervio]]s y producen otras anormalidades tales como cambios en la [[piel]] y deformidades en los [[huesos]]. Las neurofibromatosis ocurren en ambos sexos y en todos los grupos étnicos. Se transmiten a la descendencia de forma [[autosómica dominante]]. Los científicos han clasificado los trastornos como neurofibromatosis tipo 1 (NF1) y neurofibromatosis tipo 2 (NF2) cada una con una alteración en un [[cromosoma]] diferente (17<ref> Ledbetter DH, Rich DC, O'Connell P, et al. Precise localization of NF1 to 17q11.2 by balanced translocation. Am J Hum Genet 1989; 44:20.\n",
      "</ref> y 22<ref> Seizinger BR, Martuza RL, Gusella JF. Loss of genes on chromosome 22 in tumorigenesis of human acoustic neuroma. Nature 1986; 322:644.</ref> respectivamente). Existen otros tipos o variantes de neurofibromatosis, pero éstas no han sido definidas aún.\n",
      "\n",
      "La Neurofibromatosis 1 o Enfermedad de Von Recklinghausen, fue descrita por vez primera en el 1882 por [[Friedrich Daniel Von Recklinghausen]], un patólogo alemán. Desde entonces, está claro no tan sólo que las neurofibromatosis son una de las enfermedades genéticas más comunes, sino también que hay diversas expresiones diferentes de la enfermedad. La forma descrita por [[Von Recklinghausen]] es, con diferencia, la más común, llegando aproximadamente al 85% de los casos.\n",
      "\n",
      "La neurofibromatosis tipo 1 (NF1) es el tipo más común de neurofibromatosis que ocurre aproximadamente en 1 de cada 4.000 personas en los [[Estados Unidos]]. Aunque muchas personas afectadas heredan este trastorno, entre el 30 y el 50 por ciento de los nuevos casos surgen espontáneamente mediante mutación (cambios) en los genes de una persona. Una vez que ha ocurrido este cambio, el [[gen]] [[mutación|mutante]] puede pasarse a generaciones sucesivas.\n",
      "\n",
      "Con anterioridad, la NF1 se conocía como neurofibromatosis periférica, (o neurofibromatosis de von Recklinghausen) debido a que algunos de los síntomas, tales como manchas en la piel y tumores, parecían estar limitados a los nervios exteriores o al sistema nervioso periférico de la persona afectada. Este nombre ya no es técnicamente exacto debido a que ahora se sabe que en la NF1 ocurren tumores del sistema nervioso central.\n",
      "\n",
      "Es una alteración genética que provoca en los afectados, crecimiento descontrolado de tumores en casi todo el organismo, de una forma irregular. Este crecimiento está provocado por la falta de un \"supresor\" de crecimiento tumoral. Son típicas las manchas \"café con leche\" (en la piel), nódulos de Lisch (en el ojo), displasias (en los huesos largos), Schwanomas (en los nervios), Cataratas, etc. Existen 2 tipos de (NF): \n",
      "\n",
      "- '''NF 1 o enfermedad de von Recklinghausen o Neurofibromatosis periférica'''. Que se caracteriza por la aparición de manchas \"café con leche\" y afectación en el sistema nervioso periférico (Gliomas ópticos), si bien con el paso del tiempo pueden afectarse todos los tejidos y en otros casos la afectación es mínima.\n",
      "\n",
      "'''- NF 2 o Neurofibromatosis central''', donde predominan los tumores en nervios craneales (nervios auditivos (VIII par), gliomas, meningiomas, etc.)\n",
      "\n",
      "== Etiología ==\n",
      "En la NF 1 la mutación es en el cromosoma 17, mientras que en la NF 2 la mutación se da en el cromosoma 22.\n",
      "La herencia es autosómica dominante, lo que quiere decir que con tener un gen alterado de alguno de los padres aparecerá la enfermedad; asimismo, existe un riesgo del 50% de transmitir la enfermedad a cada uno de los hijos. Hasta el momento se han descrito más de 150 variaciones en la mutación del gen.\n",
      "Existe también la mutación espontánea \"de novo\" donde los padres no tienen ninguna alteración cromosómica, se conocen casos de mutaciones \"de novo\" en varios hijos por lo que se habla de mutaciones en células germinales. En el momento actual se considera que el 50% de los casos diagnosticados de NF son de mutación espontánea.\n",
      "\n",
      "== Cuadro clínico ==\n",
      "[[Archivo:Reggie_Bibbs_with_Beyoncé_Knowles.jpg|thumb|240px|[[Beyoncé]] junto a Reggie Bibbs un hombre con neurofibromatosis]]\n",
      "Los primeros síntomas pueden aparecer en la infancia como las manchas \"café con leche\" o pecas en la axila, neurofibromas subcutáneos y el crecimiento de las lesiones tiene distintas evoluciones, no se conoce exactamente por qué unos desarrollan la enfermedad muy pronto y otras personas no, incluso en el seno de la misma familia, el desarrollo tiene una velocidad de crecimiento totalmente distinta y los primeros síntomas pueden aparecer a los 40 o 50 años o incluso más. Se dan familias con hijos poco afectados y padres con gran afectación y al contrario, padre solo con manchas y los hijos con mayor afectación. También se dan casos de familias con gliomas que se reabsorben con el paso del tiempo y lo llamativo es que le ocurre lo mismo al hijo. Es importante saber que en la adolescencia y en los embarazos las lesiones sufren cambios importantes en cuanto a tamaño y cantidad.\n",
      "\n",
      "== Diagnóstico ==\n",
      "=== Neurofibromatosis I ===\n",
      "Para diagnosticar un paciente afectado con esta enfermedad desde el punto de vista clínico debe cumplir unos criterios diagnósticos y está estipulado que deben cumplir DOS o más de los que se detallan a continuación:\n",
      "*Seis o más manchas \"café con leche\" mayores de 5 mm de diámetro en personas antes de la pubertad y más de 15 mm si se miden después de la pubertad.\n",
      "*Dos o más [[neurofibroma]]s de cualquier tipo.\n",
      "*Pecas en las axilas y/o en ingle.\n",
      "*[[Glioma]]s en vías ópticas.\n",
      "*Dos o más [[nódulo de Lisch|nódulos de Lisch]] ([[hamartoma]]s benignos del iris).\n",
      "*Una lesión ósea característica (como la [[escoliosis]]).\n",
      "*Pariente de primer grado afectado de NF 1 (padre o hermano)\n",
      "\n",
      "=== Neurofibromatosis II (NF2) ===\n",
      "*Tumor bilateral del VIII par craneal (N. Vestibulococlear)\n",
      "*Uno de los padres, un hermano o un hijo con NF2 y un tumor del acústico unilateral.\n",
      "*Uno de los padres, un hermano o un hijo con NF2 y dos de las condiciones siguientes:\n",
      "**Glioma.\n",
      "**Meningioma.\n",
      "**Neurofibroma o Schwanoma.\n",
      "**Catarata en edad precoz.\n",
      "\n",
      "== Complicaciones ==\n",
      "'''Neurofibromatosis 1'''. Las posibles complicaciones, también denominadas criterios menores, aparecen en un número inferior de casos. A algunas de ellas sólo se las supone asociadas con la NF porque se encuentran con más frecuencia en afectados, otras son consecuencia directa de la enfermedad. Ninguna de ellas por sí sola es indicación de NF1. Las más comunes son:\n",
      "\n",
      "* Problemas cosméticos\n",
      "* Problemas funcionales\n",
      "* [[Pseudoartrosis]]\n",
      "* Baja estatura. Debido especialmente a deformidades en la [[columna vertebral]].\n",
      "* [[Escoliosis]].\n",
      "* [[Macrocefalia (medicina)|Macrocefalia]]\n",
      "* [[Glioma]] óptico\n",
      "* [[Tumor]]es cerebrales\n",
      "* Tumores en la [[columna vertebral]]\n",
      "* [[Estreñimiento]] crónico\n",
      "* Problemas de [[aprendizaje]]\n",
      "* Retardo mental\n",
      "* [[Sordera]]\n",
      "* Alteraciones del habla\n",
      "* [[Pubertad]] precoz o tardía\n",
      "* Dolor de cabeza\n",
      "* Convulsiones\n",
      "* [[Hipertensión]]\n",
      "* [[Feocromocitoma]]\n",
      "* Picores\n",
      "* [[Cáncer]] (metástasis)\n",
      "* Impacto Psicosocial\n",
      "\n",
      "'''Neurofibromatosis 2'''. Como consecuencia de los múltiples tumores que en el sistema nervioso produce la [[NF2]], a menudo se presentan otras complicaciones, la mayoría de las cuales están relacionadas con la pérdida de la funcionalidad de las vías nerviosas. Hay que tener en cuenta que, si bien los tumores son benignos, pueden producirse en tal número y localización que hacen que su extirpación sea muy difícil, y no exenta de consecuencias. A veces es complicado determinar si es mejor extirpar o no. Las más comunes son:\n",
      "\n",
      "* [[Parálisis]] facial\n",
      "* Pérdida de visión\n",
      "* Problemas cosméticos\n",
      "* Problemas motores\n",
      "* Pérdida de equilibrio\n",
      "* [[Sordera]]\n",
      "* Pérdida de sensibilidad\n",
      "* Dolor de cabeza\n",
      "* Impacto [[Psicosocial]]\n",
      "\n",
      "En ambos tipos de NF destacamos: \n",
      "* '''Dolor crónico'''. El dolor de espalda algunas veces tiene relación con neurofibromas en la columna vertebral que no son fáciles de operar. Para un adulto con dolor crónico y severo que ha sido debidamente estudiado puede ser aconsejable remitirlo a un médico especializado en control de dolor, para que intente reducírselo. El dolor crónico causado por neurofibromas puede a menudo aliviarse con una combinación de calmantes. Los dolores de cabeza pueden ser un problema para algunas personas. Los doctores especializados en neurología y/o control del dolor pueden tener ideas para reducir la frecuencia y/o la intensidad de los dolores de cabeza.A pesar de que no comprendemos por qué se originan, los picores son motivo de queja frecuente en personas con NF1. Algunas personas pueden beneficiarse de medicamentos como los antihistamínicos, que reducen los picores.\n",
      "\n",
      "* En raras ocasiones, una persona con NF1 puede desarrollar un '''tumor cerebral''' llamado [[astrocitoma]]. Los adultos con NF1 que experimenten nuevos dolores de cabeza, o un cambio en sus habilidades físicas habituales (como debilidad, entumecimiento, cambios de personalidad o memoria) deberían consultarlo con sus médicos lo antes posible. Puede ser conveniente hacer una evaluación.\n",
      "\n",
      "* Los [[neurofibromas plexiformes]] son otro tipo de tumores benignos que crecen a lo largo de los nervios. Al contrario que los neurofibromas típicos de la piel que crecen como un pequeño y definido nódulo, el [[neurofibroma plexiforme]] es más grande y tiene menos definidos los bordes. Puede sentirse como un racimo de cuerdas o nudos bajo la piel. Los neurofibromas plexiformes también se diferencian de los neurofibromas dérmicos porque habitualmente aparecen antes de la edad adulta. Estos tumores pueden ser dolorosos. También pueden desfigurar dependiendo de su tamaño y su localización. Menos comúnmente, un [[neurofibroma]] plexiforme puede llegar a ser canceroso.\n",
      "\n",
      "* [[Hipertensión arterial]]. Algunas veces la hipertensión no está específicamente relacionada con la NF1, aunque algunas personas con NF1 pueden tener hipertensión causada por [[feocromocitoma]]s, tumores que son normalmente benignos y segregan ciertas hormonas. En estos casos la presión sanguínea es alta sólo en algunas ocasiones, y suele ir acompañada de dolores de cabeza, sudoración y palpitaciones. Los feocromocitomas pueden ser tratados con medicinas y extirpados mediante cirugía.\n",
      "\n",
      "* Tumor cerebral.\n",
      "\n",
      "* Daños neurológicos debido a [[cifoescoliosis]] severas.\n",
      "\n",
      "* Amputación debida a pseudoartrosis de tibia.\n",
      "\n",
      "* Degeneración maligna del neurofibroma plexiforme, tumor en la cubierta de nervio periférico (ocurre en el 10-12%)\n",
      "\n",
      "* [[Depresión]] debida a la vergüenza provocada por deformaciones en el cuerpo y /o rostro.\n",
      "\n",
      "* [[Ansiedad]] y problemas a la hora de relacionarse socialmente condicionados por reacciones negativas hacia el enfermo por parte de las personas de su entorno.\n",
      "\n",
      "== Tratamiento ==\n",
      "Actualmente no hay cura, solo tratamientos paliativos. Debido a las múltiples manifestaciones de la enfermedad, se recomienda que los afectados lleven un seguimiento por parte de médicos especialistas, para tratar posibles complicaciones. En ocasiones se recurre a la [[cirugía]] para extirpar tumores que comprimen órganos u otras estructuras. Menos del 10% desarrolla tumores malignos que deben ser tratados con [[quimioterapia]].\n",
      "\n",
      "== Véase también ==\n",
      "* [[Tejido nervioso]]\n",
      "* [[Lesiones de nervio]]\n",
      "* [[Sistema nervioso]]\n",
      "* [[Nervio]]\n",
      "\n",
      "== Referencias ==\n",
      "{{listaref}}\n",
      "* [http://www.ninds.nih.gov/health_and_medical/pubs/las_neurofibromatosis.htm NINDS]: Artículo de la National Institute of Neurological Disorders and Stroke, publicado bajo [[dominio público]].\n",
      "* [http://web.archive.org/web/http://www.msd.es/publicaciones/mmerck_hogar/seccion_06/seccion_06_079.html Manual Merck]: Tumores del Sistema Nervioso, incluyendo '''Neurofibromatosis'''\n",
      "\n",
      "== Enlaces externos ==\n",
      "{{Commonscat|Neurofibromatosis type 1}}\n",
      "{{Medlineplus}}\n",
      "* [http://www.nfcantabria.unican.es/portada.asp Asociación Cantabria para las Neurofibromatosis]\n",
      "* [http://www.nacersano.org/centro/9388_9979.asp Biblioteca de Salud: Neurofibromatosis]\n",
      "* [http://www.nfcol.net Neurofibromatosis Colombiana]<nowiki/>[[Categoría:Enfermedades genéticas]]\n",
      "* [http://www.amandos.org Asociación Mundial de Afectados de Neurofibromatosis 2 (AMANDOS)]\n",
      "[[Categoría:Enfermedades hereditarias]]\n",
      "[[Categoría:Enfermedades cutáneas]]\n",
      "[[Categoría:Enfermedades neurológicas]]\n"
     ]
    }
   ],
   "source": [
    "#Descartamos el primer hijo y analizamos el segundo\n",
    "child = root[1]\n",
    "for grandchild in child:\n",
    "    if(grandchild.tag.find(\"title\") >= 0):\n",
    "        title = grandchild.text\n",
    "        print(title)\n",
    "    if(grandchild.tag.find(\"revision\") >= 0): \n",
    "        for grand2child in grandchild:\n",
    "            if(grand2child.tag.find(\"text\") >= 0):\n",
    "                text = grand2child.text\n",
    "                print(text)"
   ]
  },
  {
   "cell_type": "markdown",
   "metadata": {},
   "source": [
    "Ahora limpiaremos el texto:"
   ]
  },
  {
   "cell_type": "code",
   "execution_count": 14,
   "metadata": {
    "collapsed": false
   },
   "outputs": [
    {
     "name": "stdout",
     "output_type": "stream",
     "text": [
      "Neurofibromatosis\n",
      "cie o ciap a omim medlineplus emedicinesubj derm emedicinetopic meshid d las neurofibromatosis son trastornos genética genéticos del sistema nervioso que afectan principalmente al desarrollo y crecimiento de los tejidos de las célula s nervio neurales nerviosas estos trastornos ocasionan tumor es que crecen en los nervio s y producen otras anormalidades tales como cambios en la piel y deformidades en los huesos las neurofibromatosis ocurren en ambos sexos y en todos los grupos étnicos se transmiten a la descendencia de forma autosómica dominante los científicos han clasificado los trastornos como neurofibromatosis tipo nf y neurofibromatosis tipo nf cada una con una alteración en un cromosoma diferente ledbetter dh rich dc o connell p et al precise localization of nf to q by balanced translocation am j hum genet y seizinger br martuza rl gusella jf loss of genes on chromosome in tumorigenesis of human acoustic neuroma nature respectivamente existen otros tipos o variantes de neurofibromatosis pero éstas no han sido definidas aún la neurofibromatosis o enfermedad de von recklinghausen fue descrita por vez primera en el por friedrich daniel von recklinghausen un patólogo alemán desde entonces está claro no tan sólo que las neurofibromatosis son una de las enfermedades genéticas más comunes sino también que hay diversas expresiones diferentes de la enfermedad la forma descrita por von recklinghausen es con diferencia la más común llegando aproximadamente al de los casos la neurofibromatosis tipo nf es el tipo más común de neurofibromatosis que ocurre aproximadamente en de cada personas en los estados unidos aunque muchas personas afectadas heredan este trastorno entre el y el por ciento de los nuevos casos surgen espontáneamente mediante mutación cambios en los genes de una persona una vez que ha ocurrido este cambio el gen mutación mutante puede pasarse a generaciones sucesivas con anterioridad la nf se conocía como neurofibromatosis periférica o neurofibromatosis de von recklinghausen debido a que algunos de los síntomas tales como manchas en la piel y tumores parecían estar limitados a los nervios exteriores o al sistema nervioso periférico de la persona afectada este nombre ya no es técnicamente exacto debido a que ahora se sabe que en la nf ocurren tumores del sistema nervioso central es una alteración genética que provoca en los afectados crecimiento descontrolado de tumores en casi todo el organismo de una forma irregular este crecimiento está provocado por la falta de un supresor de crecimiento tumoral son típicas las manchas café con leche en la piel nódulos de lisch en el ojo displasias en los huesos largos schwanomas en los nervios cataratas etc existen tipos de nf o enfermedad de von recklinghausen o neurofibromatosis periférica que se caracteriza por la aparición de manchas café con leche y afectación en el sistema nervioso periférico gliomas ópticos si bien con el paso del tiempo pueden afectarse todos los tejidos y en otros casos la afectación es mínima nf o neurofibromatosis central donde predominan los tumores en nervios craneales nervios auditivos viii par gliomas meningiomas etc etiología en la nf la mutación es en el cromosoma mientras que en la nf la mutación se da en el cromosoma la herencia es autosómica dominante lo que quiere decir que con tener un gen alterado de alguno de los padres aparecerá la enfermedad asimismo existe un riesgo del de transmitir la enfermedad a cada uno de los hijos hasta el momento se han descrito más de variaciones en la mutación del gen existe también la mutación espontánea de novo donde los padres no tienen ninguna alteración cromosómica se conocen casos de mutaciones de novo en varios hijos por lo que se habla de mutaciones en células germinales en el momento actual se considera que el de los casos diagnosticados de nf son de mutación espontánea cuadro clínico archivo reggie_bibbs_with_beyoncé_knowlesjpg thumb px beyoncé junto a reggie bibbs un hombre con neurofibromatosis los primeros síntomas pueden aparecer en la infancia como las manchas café con leche o pecas en la axila neurofibromas subcutáneos y el crecimiento de las lesiones tiene distintas evoluciones no se conoce exactamente por qué unos desarrollan la enfermedad muy pronto y otras personas no incluso en el seno de la misma familia el desarrollo tiene una velocidad de crecimiento totalmente distinta y los primeros síntomas pueden aparecer a los o años o incluso más se dan familias con hijos poco afectados y padres con gran afectación y al contrario padre solo con manchas y los hijos con mayor afectación también se dan casos de familias con gliomas que se reabsorben con el paso del tiempo y lo llamativo es que le ocurre lo mismo al hijo es importante saber que en la adolescencia y en los embarazos las lesiones sufren cambios importantes en cuanto a tamaño y cantidad diagnóstico neurofibromatosis i para diagnosticar un paciente afectado con esta enfermedad desde el punto de vista clínico debe cumplir unos criterios diagnósticos y está estipulado que deben cumplir dos o más de los que se detallan a continuación seis o más manchas café con leche mayores de mm de diámetro en personas antes de la pubertad y más de mm si se miden después de la pubertad dos o más neurofibroma s de cualquier tipo pecas en las axilas y o en ingle glioma s en vías ópticas dos o más nódulo de lisch nódulos de lisch hamartoma s benignos del iris una lesión ósea característica como la escoliosis pariente de primer grado afectado de nf padre o hermano neurofibromatosis ii nf tumor bilateral del viii par craneal n vestibulococlear uno de los padres un hermano o un hijo con nf y un tumor del acústico unilateral uno de los padres un hermano o un hijo con nf y dos de las condiciones siguientes glioma meningioma neurofibroma o schwanoma catarata en edad precoz complicaciones neurofibromatosis las posibles complicaciones también denominadas criterios menores aparecen en un número inferior de casos a algunas de ellas sólo se las supone asociadas con la nf porque se encuentran con más frecuencia en afectados otras son consecuencia directa de la enfermedad ninguna de ellas por sí sola es indicación de nf las más comunes son problemas cosméticos problemas funcionales pseudoartrosis baja estatura debido especialmente a deformidades en la columna vertebral escoliosis macrocefalia medicina macrocefalia glioma óptico tumor es cerebrales tumores en la columna vertebral estreñimiento crónico problemas de aprendizaje retardo mental sordera alteraciones del habla pubertad precoz o tardía dolor de cabeza convulsiones hipertensión feocromocitoma picores cáncer metástasis impacto psicosocial neurofibromatosis como consecuencia de los múltiples tumores que en el sistema nervioso produce la nf a menudo se presentan otras complicaciones la mayoría de las cuales están relacionadas con la pérdida de la funcionalidad de las vías nerviosas hay que tener en cuenta que si bien los tumores son benignos pueden producirse en tal número y localización que hacen que su extirpación sea muy difícil y no exenta de consecuencias a veces es complicado determinar si es mejor extirpar o no las más comunes son parálisis facial pérdida de visión problemas cosméticos problemas motores pérdida de equilibrio sordera pérdida de sensibilidad dolor de cabeza impacto psicosocial en ambos tipos de nf destacamos dolor crónico el dolor de espalda algunas veces tiene relación con neurofibromas en la columna vertebral que no son fáciles de operar para un adulto con dolor crónico y severo que ha sido debidamente estudiado puede ser aconsejable remitirlo a un médico especializado en control de dolor para que intente reducírselo el dolor crónico causado por neurofibromas puede a menudo aliviarse con una combinación de calmantes los dolores de cabeza pueden ser un problema para algunas personas los doctores especializados en neurología y o control del dolor pueden tener ideas para reducir la frecuencia y o la intensidad de los dolores de cabezaa pesar de que no comprendemos por qué se originan los picores son motivo de queja frecuente en personas con nf algunas personas pueden beneficiarse de medicamentos como los antihistamínicos que reducen los picores en raras ocasiones una persona con nf puede desarrollar un tumor cerebral llamado astrocitoma los adultos con nf que experimenten nuevos dolores de cabeza o un cambio en sus habilidades físicas habituales como debilidad entumecimiento cambios de personalidad o memoria deberían consultarlo con sus médicos lo antes posible puede ser conveniente hacer una evaluación los neurofibromas plexiformes son otro tipo de tumores benignos que crecen a lo largo de los nervios al contrario que los neurofibromas típicos de la piel que crecen como un pequeño y definido nódulo el neurofibroma plexiforme es más grande y tiene menos definidos los bordes puede sentirse como un racimo de cuerdas o nudos bajo la piel los neurofibromas plexiformes también se diferencian de los neurofibromas dérmicos porque habitualmente aparecen antes de la edad adulta estos tumores pueden ser dolorosos también pueden desfigurar dependiendo de su tamaño y su localización menos comúnmente un neurofibroma plexiforme puede llegar a ser canceroso hipertensión arterial algunas veces la hipertensión no está específicamente relacionada con la nf aunque algunas personas con nf pueden tener hipertensión causada por feocromocitoma s tumores que son normalmente benignos y segregan ciertas hormonas en estos casos la presión sanguínea es alta sólo en algunas ocasiones y suele ir acompañada de dolores de cabeza sudoración y palpitaciones los feocromocitomas pueden ser tratados con medicinas y extirpados mediante cirugía tumor cerebral daños neurológicos debido a cifoescoliosis severas amputación debida a pseudoartrosis de tibia degeneración maligna del neurofibroma plexiforme tumor en la cubierta de nervio periférico ocurre en el depresión debida a la vergüenza provocada por deformaciones en el cuerpo y o rostro ansiedad y problemas a la hora de relacionarse socialmente condicionados por reacciones negativas hacia el enfermo por parte de las personas de su entorno tratamiento actualmente no hay cura solo tratamientos paliativos debido a las múltiples manifestaciones de la enfermedad se recomienda que los afectados lleven un seguimiento por parte de médicos especialistas para tratar posibles complicaciones en ocasiones se recurre a la cirugía para extirpar tumores que comprimen órganos u otras estructuras menos del desarrolla tumores malignos que deben ser tratados con quimioterapia véase también tejido nervioso lesiones de nervio sistema nervioso nervio referencias ninds artículo de la national institute of neurological disorders and stroke publicado bajo dominio público manual merck tumores del sistema nervioso incluyendo neurofibromatosis enlaces externos asociación cantabria para las neurofibromatosis biblioteca de salud neurofibromatosis colombiana categoría enfermedades genéticas asociación mundial de afectados de neurofibromatosis amandos categoría enfermedades hereditarias categoría enfermedades cutáneas categoría enfermedades neurológicas\n"
     ]
    }
   ],
   "source": [
    "from bs4 import BeautifulSoup\n",
    "import re\n",
    "\n",
    "child = root[1]\n",
    "for grandchild in child:\n",
    "    if(grandchild.tag.find(\"title\") >= 0):\n",
    "        title = grandchild.text\n",
    "        print(title)\n",
    "    if(grandchild.tag.find(\"revision\") >= 0): \n",
    "        for grand2child in grandchild:\n",
    "            if(grand2child.tag.find(\"text\") >= 0):\n",
    "                #Obtener el texto del nodo\n",
    "                text = grand2child.text.lower()\n",
    "                #Eliminar las cadenas que inician en {{ seguidas de \n",
    "                #cualquier cosa excepto }} y terminadas con }}\n",
    "                text = re.sub('{{[^}}]*}}', '', text)\n",
    "                #Misma idea, pero con el caracter especial \\[ \\] y Category:\n",
    "                text = re.sub('\\[\\[Category:[^\\]\\]]*\\]\\]', '', text)\n",
    "                #... y entre === ===\n",
    "                text = re.sub('={3}[\\w]+={3}', '', text)\n",
    "                #... y entre == ==\n",
    "                text = re.sub('={2}[\\w]+={2}', '', text)\n",
    "                #Extrae el texto de entre el código html... casi\n",
    "                text = BeautifulSoup(text, \"lxml\").get_text()\n",
    "                text = re.sub(\"<img([\\w\\W]+?)/?>\", \"\", text)\n",
    "                #Eliminar direcciones http\n",
    "                text = re.sub('\\w+:\\/{2}[\\d\\w-]+(\\.[\\d\\w-]+)*(?:(?:\\/[^\\s/]*))*', ' ', text) \n",
    "                #... y direcciones de correo\n",
    "                text = re.sub('[\\w\\.-]+@[\\w\\.-]+', \" \", text)\n",
    "                #... y direcciones wikt*\n",
    "                text = re.sub('\\[\\[wikt[^|]*|', '', text)\n",
    "                #Eliminar puntos decorativos como en S.H.I.E.L.D.\n",
    "                text = text.replace(\".\",\"\")\n",
    "                #elimina las listas que aparecen así: \n",
    "                # * algo\n",
    "                # * otra cosa\n",
    "                text = text.replace(\"*\",\"\")             \n",
    "                \n",
    "                words = text.split()\n",
    "                #Reenplazar el usos de apostrofos\n",
    "                texto = [word for word in words]\n",
    "                texto = \" \".join(texto)\n",
    "                #Eliminar otros caracteres no alfabéticos\n",
    "                texto = re.sub(\"[^\\w*]\", \" \", texto)\n",
    "                texto = re.sub(\"[\\d]\", \" \", texto)\n",
    "                #Eliminar palabras repetidas consecutivas\n",
    "                words = re.sub(r'\\b(\\w+)(\\s+\\1\\b)+', r'\\1', texto).split()\n",
    "                texto = \" \".join(words)\n",
    "                \n",
    "                print(texto)"
   ]
  },
  {
   "cell_type": "code",
   "execution_count": null,
   "metadata": {
    "collapsed": true
   },
   "outputs": [],
   "source": []
  }
 ],
 "metadata": {
  "celltoolbar": "Raw Cell Format",
  "kernelspec": {
   "display_name": "Python 3",
   "language": "python",
   "name": "python3"
  },
  "language_info": {
   "codemirror_mode": {
    "name": "ipython",
    "version": 3
   },
   "file_extension": ".py",
   "mimetype": "text/x-python",
   "name": "python",
   "nbconvert_exporter": "python",
   "pygments_lexer": "ipython3",
   "version": "3.6.0"
  }
 },
 "nbformat": 4,
 "nbformat_minor": 0
}
